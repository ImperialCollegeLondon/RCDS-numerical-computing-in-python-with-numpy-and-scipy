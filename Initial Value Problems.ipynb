{
 "cells": [
  {
   "attachments": {},
   "cell_type": "markdown",
   "metadata": {
    "id": "fF91WviSH_kB"
   },
   "source": [
    "# Initial Value Problems\n",
    "\n",
    "Initial Value Problems are a common type of problem encountered when simulating a physical system's progression with time. Given a series of initial values, a system of Ordinary Differential Equations (ODEs) are solved to solve the progression of the system. For instance, the rate of change of the number of bacteria $N(t)$ in a growth medium might be described as:\n",
    "\n",
    "$\\frac{\\textrm{d}N(t)}{\\textrm{d}t} = \\alpha N(t)$\n",
    "\n",
    "where $\\alpha$ is a growth rate. If there are initially 10 bacteria at $t=0$, the number of bacteria as a function of time can be solved as follows:\n",
    "\n",
    "$N(t)=10e^{\\alpha t}$\n",
    "\n",
    "This example could be solved analytically, but other systems of equations are more complex. In this case, SciPy's ```scipy.integrate.solve_ivp``` function ([manual page](https://docs.scipy.org/doc/scipy/reference/generated/scipy.integrate.solve_ivp.html)) can be very useful for calculating the evolution of a physical system over time.\n",
    "\n",
    "```scipy.integrate.solve_ivp``` can solve the time-progression of a collection of values, presented as a vector. The function requires another function be passed to it which describes the system of equations which give the derivative as a function of the values passed to it and the current time of the system as arguments.\n",
    "\n",
    "It also takes the initial value of the system (as an array) and an array of times for which the values of the equations to be solved for are to be found. It may optionally take a tuple of values which will be passed as arguments to the function which calculates the derivative. This means the values used in the derivative function don't need to be hard-coded in the function.\n",
    "\n",
    "As an example, we'll consider the [Lorenz system of equations](https://en.wikipedia.org/wiki/Lorenz_system), which arises in simplified models of a number of physical systems including lasers, electric circuits and chemical reactions. The system of equations governing the derivative of its three variables ($x$, $y$ and $z$) are as follows:\n",
    "\n",
    "$\n",
    "\\frac{\\textrm{d}x(t)}{\\textrm{d}t} = \\sigma(y - x)\\\\\n",
    "\\frac{\\textrm{d}y(t)}{\\textrm{d}t} = x(\\rho - z) - y\\\\\n",
    "\\frac{\\textrm{d}z(t)}{\\textrm{d}t} = xy - \\beta z\n",
    "$\n",
    "\n",
    "Because we are solving for three variables as a function of time, the arrays which hold the state of the system at a particular time (or the rate of change of the system at a particular time) will be one-dimensional arrays with a size of 3.\n",
    "\n",
    "$\\beta$, $\\sigma$ and $\\rho$ are parameters which define the behaviour of the system. By picking values of 10, 8/3 and 28, we make the system  chaotic, which means we expect some interesting results.\n"
   ]
  },
  {
   "cell_type": "code",
   "execution_count": null,
   "metadata": {
    "id": "ZOPpEATYH7AH"
   },
   "outputs": [],
   "source": [
    "import numpy as np\n",
    "from scipy.integrate import solve_ivp\n",
    "\n",
    "# This function returns an array described the rate of change (i.e. [dx/dt, dy/dt, dz/dt]) of the system\n",
    "# It accepts the current time and a vector describing the current state (i.e. [x, y, z])\n",
    "# The parameters sigma, beta and rho are used to accept their values from the tuple of arguments passed to solve_ivp\n",
    "# To be used to provide the derivative to solve_ivp, extra arguments (sigma, beta, rho) is not required by solve_ivp\n",
    "# However, this pattern allows \n",
    "def derivative(t, vec, sigma, beta, rho):\n",
    "  # Create the array to hold the rate of change of the system\n",
    "  result = np.zeros(3)\n",
    "\n",
    "  # Calculate the rates of change\n",
    "  result[0] = sigma * (vec[1] - vec[0])\n",
    "  result[1] = vec[0] * (rho - vec[2]) -vec[1]\n",
    "  result[2] = vec[0] * vec[1] - beta * vec[2]\n",
    "\n",
    "  # Return the rate of change\n",
    "  return result\n",
    "\n",
    "# Set up an array describing the start and stop time of the simulation\n",
    "t_span = np.array([0, 20])\n",
    "\n",
    "# Set up the array of times at which the state of the system will be calculated\n",
    "t_steps = np.arange(0, 20, 0.01)\n",
    "\n",
    "# Create the values representing the initial state of the system, i.e. [x(0)=1, y(0)=2, z(0)=3]\n",
    "initial_value = np.array([1,2,3])\n",
    "\n",
    "# Set up the parameters of the system\n",
    "sigma = 10\n",
    "beta = 8 / 3\n",
    "rho = 28\n",
    "\n",
    "# Calculate the time series of values\n",
    "# The returned value contains the state of the system at each of the requested times\n",
    "# The first dimension of time_series represents the different times\n",
    "# The second dimension represents the different values of the system, e.g. [x, y, z]\n",
    "# For instance time_series[10, 1] represents the value of y at the 11th time\n",
    "results = solve_ivp(derivative, t_span, initial_value, t_eval=t_steps, args = (sigma, beta, rho))\n",
    "\n",
    "# The results returned is an object which contains the results of the simulation and associated messages and values\n",
    "print(type(results))\n",
    "print(results)\n",
    "# The most important data is the time of the time steps of the outputs stored in results.t and the values of the variables as a function of time in results.y\n",
    "\n",
    "# Print the output shape. The first dimension relates to each of the output variables we're solving for. The second relates to the time steps\n",
    "print(\"Output shape: \", results.y.shape)\n",
    "#Print the times array (numpy skips the middle values for a large array)\n",
    "print(\"Time: \", results.t)\n",
    "# Print the first values of the system\n",
    "print(\"First: \", results.y[:, 0])\n",
    "#Print the last values of the system\n",
    "print(\"Last: \", results.y[:, -1])"
   ]
  },
  {
   "cell_type": "markdown",
   "metadata": {},
   "source": [
    "The cell below plots the results. Make sure to run the cell above to create `results` before running the cell below."
   ]
  },
  {
   "cell_type": "code",
   "execution_count": null,
   "metadata": {},
   "outputs": [],
   "source": [
    "import matplotlib.pyplot as plt\n",
    "\n",
    "# If you're unfamiliar with matplotlib, you can ignore the details\n",
    "fig = plt.figure()\n",
    "plt.subplots_adjust(hspace=0.5)\n",
    "fig = plt.figure(figsize=plt.figaspect(4))\n",
    "\n",
    "ax = fig.add_subplot(4, 1, 1)\n",
    "ax.plot(results.t, results.y[0, :])\n",
    "ax.set_title('x(t)')\n",
    "\n",
    "ax = fig.add_subplot(4, 1, 2)\n",
    "ax.plot(results.t, results.y[1, :])\n",
    "ax.set_title('y(t)')\n",
    "\n",
    "ax = fig.add_subplot(4, 1, 3)\n",
    "ax.plot(results.t, results.y[2, :])\n",
    "ax.set_title('z(t)')\n",
    "\n",
    "ax = fig.add_subplot(4, 1, 4, projection='3d')\n",
    "ax.plot(results.y[0, :], results.y[1, :], results.y[2, :])\n",
    "\n",
    "plt.show()"
   ]
  },
  {
   "attachments": {},
   "cell_type": "markdown",
   "metadata": {
    "id": "EDmQfguYWI3L"
   },
   "source": [
    "## Exercise\n",
    "\n",
    "A predator-prey cycle describes a dynamic system where the number of members of a prey species and a predator species are linked. This relationship means that when the population of prey is low, the population of predators falls, and when it is high the number of predators falls. When the number of predators is high the number of prey falls, and when the number of predators is low the number of prey rises. This type of equation is described by the [Lotka-Volterra equations](https://en.wikipedia.org/wiki/Lotka%E2%80%93Volterra_equations):\n",
    "\n",
    "$\n",
    "\\frac{\\textrm{d}x(t)}{\\textrm{d}t} = \\alpha x - \\beta xy\\\\\n",
    "\\frac{\\textrm{d}y(t)}{\\textrm{d}t} = \\delta xy - \\gamma y\\\\\n",
    "$\n",
    "\n",
    "where $x$ is the number of prey, $y$ is the number of predators and $\\alpha$, $\\beta$, $\\gamma$ and $\\delta$ are parameters which describe the behaviour of the system.\n",
    "\n",
    "In the code below, use ```solve_ivp``` to calculate the time progression over 100 months of the number of prey and predators in a system given that there are initially 1000 predators and 2000 prey and the system has the following values:\n",
    "\n",
    "$\\alpha = 1/\\textrm{month}\\\\\n",
    "\\beta = 5\\times10^{-4}/\\textrm{month}\\\\\n",
    "\\gamma = 0.5/\\textrm{month}\\\\\n",
    "\\delta = 1\\times10^{-4}/\\textrm{month}$\n",
    "\n",
    "The code already provided will plot the output, providing the results of ```solve_ivp``` in the variable ```results```."
   ]
  },
  {
   "cell_type": "code",
   "execution_count": null,
   "metadata": {
    "id": "v6cT0tMTT9OJ"
   },
   "outputs": [],
   "source": [
    "\n",
    "\n",
    "\n",
    "\n",
    "# Below here are the commands to plot the output figure\n",
    "# You don't need to and shouldn't edit them\n",
    "import matplotlib.pyplot as plt\n",
    "plt.plot(results.t, results.y[0, :], label = \"Prey\")\n",
    "plt.plot(results.t, results.y[1, :], label = \"Predator\")\n",
    "plt.legend()"
   ]
  },
  {
   "cell_type": "code",
   "execution_count": null,
   "metadata": {
    "cellView": "form",
    "id": "OF2x78IbfvN8"
   },
   "outputs": [],
   "source": [
    "#@title\n",
    "\n",
    "import numpy as np\n",
    "from scipy.integrate import solve_ivp\n",
    "\n",
    "# The function which defines the rate of change with the system as a function of time\n",
    "def derivative(t, vec, alpha, beta, gamma, delta):\n",
    "  # Create the array to hold the rate of change of the system\n",
    "  result = np.zeros(2)\n",
    "\n",
    "  # Calculate the rates of change\n",
    "  result[0] = alpha * vec[0] - beta * vec[0] * vec[1]\n",
    "  result[1] = delta * vec[0] * vec[1] - gamma * vec[1]\n",
    "\n",
    "  # Return the rate of change\n",
    "  return result\n",
    "\n",
    "# Set up an array describing the start and stop time of the simulation\n",
    "t_span = np.array([0, 100])\n",
    "\n",
    "# Set up the array of times at which the state of the system will be calculated\n",
    "t_steps = np.arange(0, 100, 0.01)\n",
    "\n",
    "# Create the values representing the initial state of the system, i.e. 2000 prey and 1000 predators\n",
    "initial_value = np.array([2000, 1000])\n",
    "\n",
    "# Set up the parameters of the system\n",
    "alpha = 1\n",
    "beta = 5e-4\n",
    "gamma = 0.5\n",
    "delta = 1e-4\n",
    "\n",
    "# Solve the initial value problem\n",
    "results = solve_ivp(derivative, t_span, initial_value, t_eval=t_steps, args = (alpha, beta, gamma, delta))\n",
    "\n",
    "# Below here are the commands to plot the output figure\n",
    "# You don't need to and shouldn't edit them\n",
    "import matplotlib.pyplot as plt\n",
    "plt.plot(results.t, results.y[0, :], label = \"Prey\")\n",
    "plt.plot(results.t, results.y[1, :], label = \"Predator\")\n",
    "plt.legend()"
   ]
  }
 ],
 "metadata": {
  "colab": {
   "collapsed_sections": [],
   "name": "Initial Value Problems.ipynb",
   "provenance": []
  },
  "kernelspec": {
   "display_name": "Python 3",
   "language": "python",
   "name": "python3"
  },
  "language_info": {
   "codemirror_mode": {
    "name": "ipython",
    "version": 3
   },
   "file_extension": ".py",
   "mimetype": "text/x-python",
   "name": "python",
   "nbconvert_exporter": "python",
   "pygments_lexer": "ipython3",
   "version": "3.13.2"
  },
  "vscode": {
   "interpreter": {
    "hash": "5dbf766eb95023f9dddb799b5381b4ed6a9322e38632e8ac1570872c767b304b"
   }
  }
 },
 "nbformat": 4,
 "nbformat_minor": 0
}
