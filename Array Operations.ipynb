{
 "cells": [
  {
   "cell_type": "markdown",
   "metadata": {
    "id": "euQr57ooLW_e"
   },
   "source": [
    "# Array Operations\n",
    "\n",
    "NumPy is not just good at storing large amounts of data, it's also very efficient at performing calculations and makes carrying out these calculations very convenient. This notebook discusses some of these calculations and the syntax used to invoke them."
   ]
  },
  {
   "cell_type": "markdown",
   "metadata": {
    "id": "u5i0HFbT8wPP"
   },
   "source": [
    "## Arithmetic Operations\n",
    "\n",
    "Simple arithmetic operators can be performed using NumPy arrays. When such an operation is placed between two NumPy arrays, the operation is performed \"element-wise\". This means that the operation is performed on each element of the arrays to create the corresponding element of the new array. For instance:"
   ]
  },
  {
   "cell_type": "code",
   "execution_count": null,
   "metadata": {
    "id": "JCRxTeXwLS4k"
   },
   "outputs": [],
   "source": [
    "import numpy as np\n",
    "\n",
    "a = np.array([2,4,6])\n",
    "b = np.array([1,4,7])\n",
    "\n",
    "print(\"Addition: \", a + b)\n",
    "print(\"Subtraction: \", a - b)\n",
    "print(\"Multiplication: \", a * b)\n",
    "print(\"Division: \", a / b)\n",
    "print(\"Exponentiation: \", a ** b)\n",
    "print(\"Integer Division: \", a // b)\n",
    "print(\"Modulo: \", a % b)\n",
    "print(\"Negative: \", -a)\n",
    "\n",
    "# This is also works with comparison operators\n",
    "print(\"Greater Than: \", a > b)\n",
    "print(\"Less Than: \", a < b)\n",
    "print(\"Greater Than or Equal: \", a >= b)\n",
    "print(\"Less Than or Equal: \", a <= b)\n",
    "print(\"Equal: \", a == b)\n",
    "print(\"Not Equal: \", a != b)"
   ]
  },
  {
   "cell_type": "markdown",
   "metadata": {
    "id": "CsDS8CwtC-mw"
   },
   "source": [
    "Note that, when operating on arrays in this way, both arrays must be the same dimension and size."
   ]
  },
  {
   "cell_type": "code",
   "execution_count": null,
   "metadata": {
    "id": "YkAyNiKTBy62"
   },
   "outputs": [],
   "source": [
    "import numpy as np\n",
    "\n",
    "# These arrays have the same number of elements but a different number of dimensions\n",
    "a = np.arange(4).reshape([2,2])\n",
    "b = np.arange(1,5)\n",
    "\n",
    "print(a + b)"
   ]
  },
  {
   "cell_type": "markdown",
   "metadata": {
    "id": "nHMa3tm6DK-K"
   },
   "source": [
    "## Applying the Same Operation to Every Element\n",
    "\n",
    "It's possible to apply the same operation to every element of an array using an operator and a scalar value. The array and the integer may be in either order."
   ]
  },
  {
   "cell_type": "code",
   "execution_count": null,
   "metadata": {
    "id": "88r4jziiC78q"
   },
   "outputs": [],
   "source": [
    "import numpy as np\n",
    "\n",
    "a = np.arange(1, 4)\n",
    "print(\"a: \", a)\n",
    "print(\"Addition: \", 2 + a)\n",
    "print(\"Left Subtraction: \", 2 - a)\n",
    "print(\"Right Subtraction: \", a - 2)\n",
    "print(\"Multiplication: \", a * 2)\n",
    "print(\"Left Division: \", a / 2)\n",
    "print(\"Right Division: \", 2 / a)\n",
    "print(\"Left Exponentiation: \", 2 ** a)\n",
    "print(\"Right Exponentiation: \", a ** 2)\n",
    "print(\"Left Integer Division: \", 2 // a)\n",
    "print(\"Right Integer Division: \", a // 2)\n",
    "print(\"Left Modulo: \", 2 % a)\n",
    "print(\"Right Modulo: \", a % 2)\n",
    "print(\"Left Greater Than: \", 2 > a)\n",
    "print(\"Right Greater Than: \", a > 2)"
   ]
  },
  {
   "cell_type": "markdown",
   "metadata": {
    "id": "TdepIcpKuhlC"
   },
   "source": [
    "## Exercise\n",
    "\n",
    "Look at the code in the cell below, but don't run it yet. Instead, write down what you think will be printed in each case. Then, run the code and check you get the results you expect."
   ]
  },
  {
   "cell_type": "code",
   "execution_count": null,
   "metadata": {
    "id": "cPW87SEVu2xR"
   },
   "outputs": [],
   "source": [
    "import numpy as np\n",
    "\n",
    "a = np.array([1, 2])\n",
    "b = np.array([3, 4])\n",
    "\n",
    "print(\"Case 1: \", a + b)\n",
    "print(\"Case 2: \", a / 2)\n",
    "print(\"Case 3: \", a ** b)\n",
    "print(\"Case 4: \", 2 - a)\n",
    "print(\"Case 5: \", a - b * 2) # Remember the order of operations"
   ]
  },
  {
   "cell_type": "markdown",
   "metadata": {},
   "source": [
    "## Statistics of Arrays\n",
    "NumPy has a number of built-in functions for performing statistical calculations on arrays. These include:"
   ]
  },
  {
   "cell_type": "code",
   "execution_count": null,
   "metadata": {},
   "outputs": [],
   "source": [
    "a = np.array([1, 4, 3, 5, 2])\n",
    "\n",
    "print(\"a: \", a)\n",
    "print(\"Sum: \", a.sum())\n",
    "print(\"Minimum: \", a.min())\n",
    "print(\"Maximum: \", a.max())\n",
    "print(\"Mean: \", a.mean())\n",
    "print(\"Median: \", np.median(a))\n",
    "print(\"Standard Deviation: \", a.std())\n",
    "print(\"Variance: \", a.var())\n",
    "print(\"Range:\", np.ptp(a))"
   ]
  },
  {
   "cell_type": "markdown",
   "metadata": {},
   "source": [
    "We can also perform useful operations on an array of ```bool```s (such as those generated by a comparison operator):"
   ]
  },
  {
   "cell_type": "code",
   "execution_count": null,
   "metadata": {},
   "outputs": [],
   "source": [
    "a = np.array([True, True, False, True])\n",
    "\n",
    "print(\"a: \", a)\n",
    "print(\"All: \", a.all()) # Will be True if all elements are True\n",
    "print(\"Any: \", a.any()) # Will be True if any elements are True\n",
    "print(\"Number of Trues: \", a.sum()) # For the purposes of a sum, True is 1 and False is 0\n",
    "\n",
    "# We can combine these functions with operators\n",
    "# For example, to check if all elements are less than 10:\n",
    "b = np.array(np.array([1, 2, 3, 4]))\n",
    "print(\"All less than 10: \", (b < 10).all())"
   ]
  },
  {
   "cell_type": "markdown",
   "metadata": {
    "id": "dI0EufaRG5vq"
   },
   "source": [
    "## More Complex Functions\n",
    "\n",
    "Many complex mathematical functions which operate on scalars in Python are available from the ```math``` module, such as the ```sin``` function. These functions will work on NumPy arrays with a size of 1 (and return a scalar), but will not work on larger arrays:"
   ]
  },
  {
   "cell_type": "code",
   "execution_count": null,
   "metadata": {
    "id": "ujJ6d7hnI2Hb"
   },
   "outputs": [],
   "source": [
    "import numpy as np\n",
    "import math\n",
    "\n",
    "print(math.sin(2))\n",
    "print(math.sin(np.array([1])))\n",
    "print(math.sin(np.arange(3)))"
   ]
  },
  {
   "cell_type": "markdown",
   "metadata": {
    "id": "a9i2LXv0JW-i"
   },
   "source": [
    "Fortunately, many of these functions are replicated within the NumPy array and will operate element-wise on an array passed to it:"
   ]
  },
  {
   "cell_type": "code",
   "execution_count": null,
   "metadata": {
    "id": "UwkG-8HLDcAK"
   },
   "outputs": [],
   "source": [
    "import numpy as np\n",
    "\n",
    "# Here we multiply the array [1 2 3] by a quarter\n",
    "a = np.arange(1,4) * 0.25\n",
    "print(\"a: \", a)\n",
    "print(\"sin: \", np.sin(a))\n",
    "print(\"arccos: \", np.arccos(a))\n",
    "print(\"log: \", np.log(a))\n",
    "print(\"log2: \", np.log2(a))\n",
    "print(\"log10: \", np.log10(a))\n",
    "print(\"sqrt: \", np.sqrt(a))"
   ]
  },
  {
   "cell_type": "markdown",
   "metadata": {},
   "source": [
    "## Exercise: Heat Pump Energy Usage\n",
    "\n",
    "Domestic heat pumps use electricity to transfer heat from one place to another. In a domestic settings they are usually used to pump heat from the cold outdoors to the warmer indoors. As they capture some of the heat from the outside air, they can be more efficient than traditional electric heating. \n",
    "\n",
    "We're going to do some calculations that will help us understand the power usage of a heat pump throughout a typical day. We will do this by calculating a variety of properties throughout the day. As a result, many values will be stored in a 1-D Numpy array with 24 entries. The first entry in the array will relate to around midnight, the next will relate around 1am, and so on.\n",
    "\n",
    "On a particular day, the external temperature is defined as follows:\n",
    "\n",
    "$$\n",
    "T_{out} = 270 + 10 \\sin\\left(\\frac{\\pi}{12}(t - 6)\\right)\n",
    "$$\n",
    "\n",
    "where:\n",
    "\n",
    "- $T_{out}$ is the outdoor temperature (K)\n",
    "- $t$ is the time in hours (0 for the first hour, 23 for the last hour)\n",
    "\n",
    "$T_{out}$ is measured in units of [Kelvin](https://en.wikipedia.org/wiki/Kelvin).\n",
    "\n",
    "The indoor temperature $T_{in}$ is the temperature that the owners want to maintain. This is a constant value of 293K.\n",
    "\n",
    "In the cell below, complete the code to calculate the indoor and outdoor temperatures and represent them in Numpy arrays. You may include other lines of code before the existing lines if you like. Sample solutions to each step of this exercise are found in a code cell at the end of it."
   ]
  },
  {
   "cell_type": "code",
   "execution_count": null,
   "metadata": {},
   "outputs": [],
   "source": [
    "# Exterior temperature (K)\n",
    "t_out = \n",
    "\n",
    "# Interior temperature (K)\n",
    "t_in = \n",
    "\n",
    "print(\"Outdoor Temperature (K):\", t_out) # Should be 24 values. First should be 260\n",
    "print(\"Indoor Temperature (K):\", t_in) # Should be 24 values, all 293"
   ]
  },
  {
   "cell_type": "markdown",
   "metadata": {},
   "source": [
    "If we make some approximations, the equation to calculate the heating power from a heat pump is:\n",
    "\n",
    "$$\n",
    "P_{heat} = \\frac{P_{elec}}{\\left(1-\\frac{T_{out}}{T_{in}}\\right)},\n",
    "$$\n",
    "\n",
    "where:\n",
    " - $P_{heat}$ is the heating power (W)\n",
    " - $P_{elec}$ is the electrical power input (W)\n",
    "\n",
    "We can approximate the heat loss from a house as being equal to:\n",
    "\n",
    "$$\n",
    "P_{loss} = UA(T_{in} - T_{out}),\n",
    "$$\n",
    "\n",
    "where:\n",
    "- $P_{loss}$ is the heat loss (W)\n",
    "- $U$ is the overall heat transfer coefficient (W/m²K)\n",
    "- $A$ is the surface area of the house (m²)\n",
    "\n",
    "In winter, to maintain a constant temperature, the heat pump will supply a heating power which equals the heat loss, such that:\n",
    "\n",
    "$$\n",
    "P_{heat} = P_{loss}\n",
    "$$\n",
    "\n",
    "Substituting the expressions for $P_{heat}$ and $P_{loss}$ and rearranging, we find:\n",
    "\n",
    "$$\n",
    "P_{elec} = UA(T_{in} - T_{out})\\left(1-\\frac{T_{out}}{T_{in}}\\right)\n",
    "$$\n",
    "\n",
    "In the cell below the values of $U$ and $A$ have already been defined. Write a Numpy expression to calculate the electrical power usage for each hour of the day. You should use `t_in` and `t_out` from the code cell above in your calculation."
   ]
  },
  {
   "cell_type": "code",
   "execution_count": null,
   "metadata": {},
   "outputs": [],
   "source": [
    "U = 2  # Heat transfer coefficient (W/m²K)\n",
    "A = 100  # Heat transfer surface area (m²)\n",
    "\n",
    "# Electrical power (W)\n",
    "p_elec =\n",
    "\n",
    "print(\"Electrical Power (W) each hour:\", p_elec) # Should be 24 values. First should be 743.3-ish"
   ]
  },
  {
   "cell_type": "markdown",
   "metadata": {},
   "source": [
    "To calculate the energy used each hour in units of J, we need to multiply the power usage in each hour by the number of seconds in an hour (3600):\n",
    "\n",
    "$$\n",
    "E_{elec} = 3600 P_{elec}\n",
    "$$\n",
    "\n",
    "where:\n",
    " - $E_{elec}$ is the electrical energy used (J)\n",
    "\n",
    "In the cell below, calculate the energy used in each hour:"
   ]
  },
  {
   "cell_type": "code",
   "execution_count": null,
   "metadata": {},
   "outputs": [],
   "source": [
    "# Energy used in each of the 24 1-hour periods (J)\n",
    "e_elec =\n",
    "\n",
    "print(\"Electrical Energy (J) each hour:\", e_elec) # Should be 24 values. First should be 2676040-ish"
   ]
  },
  {
   "cell_type": "markdown",
   "metadata": {},
   "source": [
    "The cost of electricity is 25.73p/kWh. If we convert this to a cost per J, the cost is 0.0000000714 £/J. In the cell below, calculate the total cost of electricity used over the 24-hour period:"
   ]
  },
  {
   "cell_type": "code",
   "execution_count": null,
   "metadata": {},
   "outputs": [],
   "source": [
    "# Total 24-hour cost (£)\n",
    "total_cost = \n",
    "\n",
    "print(\"Total 24-hour cost (£):\", total_cost) # Should be a single value of 2.44-ish"
   ]
  },
  {
   "cell_type": "markdown",
   "metadata": {},
   "source": [
    "### Sample Solution"
   ]
  },
  {
   "cell_type": "code",
   "execution_count": null,
   "metadata": {},
   "outputs": [],
   "source": [
    "#@title\n",
    "\n",
    "import numpy as np\n",
    "import math\n",
    "\n",
    "# Time (hours)\n",
    "t = np.arange(0, 24)\n",
    "\n",
    "# Exterior temperature (K)\n",
    "t_out = 270 + 10 * np.sin( math.pi / 12 * (t - 6))\n",
    "\n",
    "# Interior temperature (K)\n",
    "t_in = np.full(24, 293)\n",
    "\n",
    "print(\"Time (hours):\", t)\n",
    "print(\"Outdoor Temperature (K):\", t_out)\n",
    "print(\"Indoor Temperature (K):\", t_in)\n",
    "\n",
    "U = 2  # Heat transfer coefficient (W/m²K)\n",
    "A = 100  # Heat transfer surface area (m²)\n",
    "\n",
    "# Electrical power (W)\n",
    "p_elec = U * A * (t_in - t_out) * (1 - t_out / t_in)\n",
    "\n",
    "print(\"Electrical Power (W) each hour:\", p_elec)\n",
    "\n",
    "e_elec = 3600 * p_elec\n",
    "\n",
    "print(\"Electrical Energy (J) each hour:\", e_elec)\n",
    "\n",
    "# Total Energy Usage (J)\n",
    "total_energy_use = np.sum(e_elec)\n",
    "\n",
    "# Total 24-hour cost (£)\n",
    "total_cost = total_energy_use * 0.0000000714\n",
    "\n",
    "print(\"Total 24-hour cost (£):\", total_cost)"
   ]
  },
  {
   "cell_type": "markdown",
   "metadata": {
    "id": "Oy9u2_oqeaxo"
   },
   "source": [
    "## Extension: Vector and Matrix Operations\n",
    "\n",
    "NumPy is designed to hold vectors, matrices, tensors and so on. It also contains functions to perform common operations relevant to these data types. For instance:"
   ]
  },
  {
   "cell_type": "code",
   "execution_count": null,
   "metadata": {
    "id": "8_l_TivNHFk3"
   },
   "outputs": [],
   "source": [
    "import numpy as np\n",
    "\n",
    "matrix = np.arange(4).reshape([2,2])\n",
    "vector1 = np.array([1,2])\n",
    "vector2 = np.array([3,4])\n",
    "\n",
    "print(\"Matrix: \", matrix)\n",
    "print(\"Vector1: \", vector1)\n",
    "print(\"Vector2: \", vector2)\n",
    "\n",
    "print(\"Normal: \", np.linalg.norm(vector1))\n",
    "print(\"Dot product\", np.dot(vector1, vector2))\n",
    "print(\"Matrix-vector multiplication: \", np.matmul(matrix, vector1))\n",
    "print(\"Matrix-matrix multiplication: \", np.matmul(matrix, matrix))\n",
    "print(\"Matrix power: \", np.linalg.matrix_power(matrix, 3))\n",
    "print(\"Determinant: \", np.linalg.det(matrix))\n",
    "print(\"Transpose: \", np.transpose(matrix))\n",
    "print(\"Inverse: \", np.linalg.inv(matrix))\n",
    "print(\"Eigenvectors and eigenvalues: \", np.linalg.eig(matrix))"
   ]
  },
  {
   "cell_type": "markdown",
   "metadata": {
    "id": "prYsG9Ssnx5N"
   },
   "source": [
    "## Extension Exercise: Cartesian Coordinates\n",
    "\n",
    "A location in 3d Cartesian space may be represented by (x,y,z) coordinates. This may be represented by a\n",
    "dimension 1 array with size 3.\n",
    "\n",
    "In the cell below:\n",
    "* Create a 1d array with three elements to represent Position A, which is at (1,2,1)\n",
    "* Calculate the location of Position B, which has a displacement of (3,-4,1) from Position A\n",
    "* Calculate the location of Position C, which is twice as far from the origin as Position B\n",
    "* Calculate the location of position D, which is found by rotating position C $45^{o}$ around the z axis (anti-clockwise\n",
    "when viewed from above). To rotate a location around the z axis in this manner by an angle $\\theta$, it may be\n",
    "multiplied by the matrix:\n",
    "$\n",
    "\\begin{pmatrix}\n",
    "\\cos(\\theta) & -\\sin(\\theta) & 0 \\\\ \n",
    "\\sin(\\theta) & \\cos(\\theta) & 0 \\\\ \n",
    "0 & 0 & 1\n",
    "\\end{pmatrix}\n",
    "$\n",
    "Remember that functions for sine and cosine typically take arguments in radians, not degrees.\n",
    "* Calculate the straight line distance between Position D and the origin"
   ]
  },
  {
   "cell_type": "code",
   "execution_count": null,
   "metadata": {
    "id": "lykqChQktPed"
   },
   "outputs": [],
   "source": []
  },
  {
   "cell_type": "code",
   "execution_count": null,
   "metadata": {
    "cellView": "form",
    "id": "ZRj4xpGYXLnD"
   },
   "outputs": [],
   "source": [
    "#@title\n",
    "import numpy as np\n",
    "import math\n",
    "\n",
    "# Define Position A\n",
    "pos_a = np.array([1,2,1])\n",
    "print(\"Position A: \", pos_a)\n",
    "\n",
    "# Add the specified displacement to position A to get position B\n",
    "pos_b = pos_a + np.array([3,-4,1])\n",
    "print(\"Position B: \", pos_b)\n",
    "\n",
    "# Double the values in position B to get position C\n",
    "pos_c = pos_b * 2\n",
    "print(\"Position C: \", pos_c)\n",
    "\n",
    "# Calculate 45 degrees in radians\n",
    "radians_45 = 45 * math.pi / 180\n",
    "# Create the rotation matrix\n",
    "rotation_matrix = np.array([[math.cos(radians_45), -math.sin(radians_45), 0], [math.sin(radians_45), math.cos(radians_45), 0], [0,0,1]])\n",
    "print(\"Rotation matrix: \", rotation_matrix)\n",
    "# Operate of position C with the rotation matrix to get position D\n",
    "pos_d = np.matmul(rotation_matrix, pos_c)\n",
    "print(\"Position D: \", pos_d)\n",
    "\n",
    "# Calculate the distance between position D and the origin\n",
    "distance_d = np.linalg.norm(pos_d)\n",
    "print(\"Distance: \", distance_d)"
   ]
  },
  {
   "cell_type": "markdown",
   "metadata": {
    "id": "2cfPmlVeD5xN"
   },
   "source": [
    "## Extension: Solving Matrix Equations and Sparse Matrices\n",
    "\n",
    "Sometimes it can be desirable to solve a matrix equation of the form $Mx=b$ where $M$ is a matrix, $b$ is a known vector and $x$ is an unknown vector whose value is to be found. For instance, consider the equation:\n",
    "\n",
    "$$\n",
    "\\begin{pmatrix}\n",
    "1 & 2 & 3\\\\ \n",
    "2 & 1 & 0\\\\ \n",
    "4 & 2 & 1\n",
    "\\end{pmatrix}\n",
    "\\vec{x}\n",
    "=\n",
    "\\begin{pmatrix}\n",
    "4\\\\ \n",
    "5\\\\ \n",
    "10\n",
    "\\end{pmatrix}\n",
    "$$\n",
    "\n",
    "We can use the ```linalg.solve``` function to solve an equation of this type as follows:"
   ]
  },
  {
   "cell_type": "code",
   "execution_count": null,
   "metadata": {
    "id": "Wu0240pJEAdt"
   },
   "outputs": [],
   "source": [
    "import numpy as np\n",
    "\n",
    "m = np.array([[1,2,3], [2,1,0], [4,2,1]])\n",
    "b = np.array([4,5,10])\n",
    "\n",
    "x = np.linalg.solve(m, b)\n",
    "\n",
    "print(x)"
   ]
  },
  {
   "cell_type": "markdown",
   "metadata": {
    "id": "b-TUc1BYIQXk"
   },
   "source": [
    "However, this function becomes slower and slower as the size of matrix gets larger. For a particular type of matrix that contains mostly zeros, this can be sped up by storing the matrix as a sparse matrix. This means that only non-zero values will be stored and only these non-zero values will be used in calculations. This dramatically reduces memory usage and the computational cost of the solving the matrix equation. There are may [types of sparse matrix included in SciPy](https://docs.scipy.org/doc/scipy/reference/sparse.html), but we will pick the [compressed row storage matrix](https://docs.scipy.org/doc/scipy/reference/generated/scipy.sparse.csr_matrix.html#scipy.sparse.csr_matrix) for this example (see [here](https://en.wikipedia.org/wiki/Sparse_matrix#Compressed_sparse_row_(CSR,_CRS_or_Yale_format) ) for a rough description of how this works). The matrix we will solve for will have the value of 1 along the central diagonal and -0.5 on the adjacent diagonals. The array on the left-hand side will have a value of 1.\n",
    "\n",
    "There are [many solvers](https://docs.scipy.org/doc/scipy/reference/sparse.linalg.html) included to be used with sparse matrices. Which one to use is not always a simple question. For this example we'll use the [conjugate gradient solver](https://docs.scipy.org/doc/scipy/reference/generated/scipy.sparse.linalg.cg.html#scipy.sparse.linalg.cg) (see [here](https://docs.scipy.org/doc/scipy/reference/generated/scipy.sparse.linalg.cg.html#scipy.sparse.linalg.cg) for a description of how this method works)."
   ]
  },
  {
   "cell_type": "code",
   "execution_count": null,
   "metadata": {
    "id": "PWefU8KNFKHb"
   },
   "outputs": [],
   "source": [
    "import numpy as np\n",
    "from scipy.sparse import csr_matrix\n",
    "from scipy.sparse.linalg import cg\n",
    "import matplotlib.pyplot as plt\n",
    "\n",
    "# Provide the dimensions of the matrix as a tuple\n",
    "m = csr_matrix((1000, 1000))\n",
    "\n",
    "# Write values to the lead diagonal\n",
    "for i in range(1000):\n",
    "  m[i,i] = 1\n",
    "\n",
    "# Write values to the diagonals next to the lead diagonal\n",
    "for i in range(999):\n",
    "  m[i, i+1] = -0.5\n",
    "  m[i+1, i] = -0.5\n",
    "\n",
    "print(\"M:\")\n",
    "# When we print the matrix, the coordinates of the non-zero values and their values will be printed\n",
    "print(m)\n",
    "\n",
    "b = np.zeros(1000) + 1\n",
    "print(\"B: \", b)\n",
    "\n",
    "x = cg(m, b)\n",
    "\n",
    "# Note the zero that is included in the tuple that was returned is an integer which indicates teh conjugate gradient solver converged correctly and found a solution\n",
    "print(\"X: \", x)\n",
    "\n",
    "# Plot the output with matplotlib\n",
    "# Don't worry if you haven't seen this before\n",
    "plt.plot(x[0])"
   ]
  },
  {
   "cell_type": "markdown",
   "metadata": {
    "id": "tEWHML18WGTP"
   },
   "source": [
    "This is an example of how Scipy can be used to solve linear algebra problems efficiently."
   ]
  }
 ],
 "metadata": {
  "colab": {
   "authorship_tag": "ABX9TyOSGsmoKYdTnuz0ywrUaRmc",
   "collapsed_sections": [],
   "name": "Array Operations.ipynb",
   "provenance": []
  },
  "kernelspec": {
   "display_name": "Python 3",
   "language": "python",
   "name": "python3"
  },
  "language_info": {
   "codemirror_mode": {
    "name": "ipython",
    "version": 3
   },
   "file_extension": ".py",
   "mimetype": "text/x-python",
   "name": "python",
   "nbconvert_exporter": "python",
   "pygments_lexer": "ipython3",
   "version": "3.13.7"
  }
 },
 "nbformat": 4,
 "nbformat_minor": 1
}
